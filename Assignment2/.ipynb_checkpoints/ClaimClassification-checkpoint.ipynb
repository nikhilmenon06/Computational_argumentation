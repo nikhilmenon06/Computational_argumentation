{
 "cells": [
  {
   "cell_type": "code",
   "execution_count": 1,
   "metadata": {},
   "outputs": [],
   "source": [
    "import numpy as np\n",
    "import pandas as pd\n",
    "import spacy\n",
    "import nltk\n",
    "import json\n",
    "import re\n",
    "from collections import Counter\n",
    "from sklearn.feature_extraction.text import CountVectorizer\n",
    "from sklearn.linear_model import LogisticRegression\n",
    "from sklearn import metrics,naive_bayes\n",
    "\n",
    "nlp = spacy.load(\"en_core_web_sm\")"
   ]
  },
  {
   "cell_type": "markdown",
   "metadata": {},
   "source": [
    "### Reading the training data and validation data"
   ]
  },
  {
   "cell_type": "code",
   "execution_count": 2,
   "metadata": {},
   "outputs": [],
   "source": [
    "train_data_file = 'train-data-prepared.json'\n",
    "val_data_file = 'val-data-prepared.json'\n",
    "\n",
    "df_train = pd.read_json(train_data_file)\n",
    "df_val = pd.read_json(val_data_file)\n",
    "# display(df_train)"
   ]
  },
  {
   "cell_type": "markdown",
   "metadata": {},
   "source": [
    "### Function: Pre-process the text(lower casing, lead/train space stripping,remove punctuations)"
   ]
  },
  {
   "cell_type": "code",
   "execution_count": 3,
   "metadata": {},
   "outputs": [],
   "source": [
    "def PreprocessData(df):\n",
    "    df['clean_text'] = df['text'].str.lower()\n",
    "    df['clean_text'] = df['clean_text'].str.strip()\n",
    "    df['clean_text'] = df['clean_text'].str.replace('[^\\w\\s]','')\n",
    "    return df"
   ]
  },
  {
   "cell_type": "markdown",
   "metadata": {},
   "source": [
    "### Function: Linguistic Feature Extraction"
   ]
  },
  {
   "cell_type": "code",
   "execution_count": 4,
   "metadata": {},
   "outputs": [],
   "source": [
    "def FeatureExtract(df):\n",
    "    \n",
    "    df['token_count'] = df['clean_text'].apply(lambda x: len(nlp(x)))\n",
    "\n",
    "    md_exist_list = [] # modal verb\n",
    "    verb_count_list = [] # verb\n",
    "    prp_exist_list = [] # personal pronouns\n",
    "    vbp_exist_list = [] # verb non 3rd person\n",
    "    adv_exist_list = [] # adverb\n",
    "\n",
    "    for text in df['clean_text']:\n",
    "        doc = nlp(text)\n",
    "        md_exist = 0\n",
    "        verb_count = 0\n",
    "        prp_exist = 0\n",
    "        vbp_exist = 0\n",
    "        adv_exist = 0\n",
    "\n",
    "        for token in doc:\n",
    "            if token.tag_ == 'MD':\n",
    "                md_exist = 1\n",
    "\n",
    "            if token.pos_ == 'VERB':\n",
    "                verb_count = 1\n",
    "\n",
    "            if token.tag_ == 'PRP':\n",
    "                prp_exist = 1\n",
    "\n",
    "            if token.tag_ == 'VBP':\n",
    "                vbp_exist = 1\n",
    "\n",
    "            if token.pos_ == 'ADV':\n",
    "                adv_exist = 1\n",
    "\n",
    "        md_exist_list.append(md_exist)\n",
    "        verb_count_list.append(verb_count)\n",
    "        prp_exist_list.append(prp_exist)\n",
    "        vbp_exist_list.append(vbp_exist)\n",
    "        adv_exist_list.append(adv_exist)\n",
    "\n",
    "    df['modal_exist'] = md_exist_list\n",
    "    df['verb_count'] = verb_count_list\n",
    "    df['prp_exist'] = prp_exist_list\n",
    "    df['vbp_exist'] = vbp_exist_list\n",
    "    df['adv_exist'] = adv_exist_list\n",
    "    return df"
   ]
  },
  {
   "cell_type": "markdown",
   "metadata": {},
   "source": [
    "### Preprocess and feature extraction: Train and Val set"
   ]
  },
  {
   "cell_type": "code",
   "execution_count": 5,
   "metadata": {},
   "outputs": [],
   "source": [
    "df_train = PreprocessData(df_train)\n",
    "df_train = FeatureExtract(df_train)\n",
    "\n",
    "df_val = PreprocessData(df_val)\n",
    "df_val = FeatureExtract(df_val)\n",
    "# display(df_train)\n",
    "# print(\"next \\n\")\n",
    "# display(df_val)"
   ]
  },
  {
   "cell_type": "code",
   "execution_count": 6,
   "metadata": {},
   "outputs": [],
   "source": [
    "# this code is for analying the features. Uncomment the second line to test different features\n",
    "\n",
    "# display(df_train)\n",
    "# df_train.loc[(df_train['adv_exist'] != 0) & (df_train['label'] == 1)]"
   ]
  },
  {
   "cell_type": "code",
   "execution_count": 7,
   "metadata": {},
   "outputs": [
    {
     "name": "stdout",
     "output_type": "stream",
     "text": [
      "PRON PRP\n",
      "ADV RB\n",
      "VERB VBP\n",
      "VERB VBD\n",
      "VERB MD\n",
      "VERB VB\n",
      "NOUN NN\n",
      "NOUN NN\n",
      "VERB MD\n",
      "VERB VB\n",
      "VERB VBN\n",
      "NOUN NNS\n",
      "2\n"
     ]
    },
    {
     "data": {
      "text/plain": [
       "'verb, gerund or present participle'"
      ]
     },
     "execution_count": 7,
     "metadata": {},
     "output_type": "execute_result"
    }
   ],
   "source": [
    "# this part contains junk code for testing\n",
    "\n",
    "text = \"him personally believe had would feel death penalty should be abolished plays\"\n",
    "doc1 = nlp(text)\n",
    "md_count = 0\n",
    "for token in doc1:\n",
    "    print(token.pos_, token.tag_)\n",
    "    if token.tag_ == 'MD':\n",
    "        md_count = md_count + 1\n",
    "\n",
    "print(md_count)\n",
    "\n",
    "spacy.explain('VBG')\n",
    "\n",
    "# junk code ends here"
   ]
  },
  {
   "cell_type": "markdown",
   "metadata": {},
   "source": [
    "### Feature Extraction using Bag of Words(uni and bigrams): Train and Val set"
   ]
  },
  {
   "cell_type": "code",
   "execution_count": 18,
   "metadata": {},
   "outputs": [
    {
     "name": "stdout",
     "output_type": "stream",
     "text": [
      "(2619, 28030)\n",
      "(2619,)\n"
     ]
    }
   ],
   "source": [
    "vectorizer = CountVectorizer(ngram_range=(1,2))\n",
    "feature_matrix_bow = vectorizer.fit_transform(df_train['clean_text'])\n",
    "\n",
    "\n",
    "df_features_bow = pd.DataFrame(feature_matrix_bow.toarray())\n",
    "df_features_text = df_train[[\"token_count\",\"modal_exist\",\"verb_count\",\"prp_exist\",\"vbp_exist\",\"adv_exist\"]]\n",
    "df_features = pd.concat([df_features_bow,df_features_text],axis = 1)\n",
    "\n",
    "x_train = df_features.values\n",
    "y_train = df_train['label'].values\n",
    "\n",
    "# display(df_features)\n",
    "# print(feature_matrix_bow.shape)\n",
    "print(x_train.shape)\n",
    "print(y_train.shape)"
   ]
  },
  {
   "cell_type": "code",
   "execution_count": 19,
   "metadata": {},
   "outputs": [
    {
     "name": "stdout",
     "output_type": "stream",
     "text": [
      "(349, 28030)\n",
      "(349,)\n"
     ]
    }
   ],
   "source": [
    "feature_matrix_bow_val = vectorizer.transform(df_val['clean_text'])\n",
    "\n",
    "df_features_bow_val = pd.DataFrame(feature_matrix_bow_val.toarray())\n",
    "df_features_text_val = df_val[[\"token_count\",\"modal_exist\",\"verb_count\",\"prp_exist\",\"vbp_exist\",\"adv_exist\"]]\n",
    "df_features_val = pd.concat([df_features_bow_val,df_features_text_val],axis = 1)\n",
    "\n",
    "x_val = df_features_val.values\n",
    "y_val = df_val['label'].values\n",
    "print(x_val.shape)\n",
    "print(y_val.shape)"
   ]
  },
  {
   "cell_type": "markdown",
   "metadata": {},
   "source": [
    "### Classifer training and predict: Logisitc Regression"
   ]
  },
  {
   "cell_type": "code",
   "execution_count": 20,
   "metadata": {},
   "outputs": [
    {
     "data": {
      "text/plain": [
       "LogisticRegression(C=1.0, class_weight=None, dual=False, fit_intercept=True,\n",
       "                   intercept_scaling=1, l1_ratio=None, max_iter=1000,\n",
       "                   multi_class='auto', n_jobs=None, penalty='l2',\n",
       "                   random_state=0, solver='lbfgs', tol=0.0001, verbose=0,\n",
       "                   warm_start=False)"
      ]
     },
     "execution_count": 20,
     "metadata": {},
     "output_type": "execute_result"
    }
   ],
   "source": [
    "classifier = LogisticRegression(random_state=0, max_iter = 1000)\n",
    "classifier.fit(x_train,y_train)"
   ]
  },
  {
   "cell_type": "code",
   "execution_count": 21,
   "metadata": {},
   "outputs": [],
   "source": [
    "predictions = classifier.predict(x_val)"
   ]
  },
  {
   "cell_type": "code",
   "execution_count": 22,
   "metadata": {},
   "outputs": [
    {
     "data": {
      "text/plain": [
       "0.4466019417475728"
      ]
     },
     "execution_count": 22,
     "metadata": {},
     "output_type": "execute_result"
    }
   ],
   "source": [
    "metrics.f1_score(y_val,predictions)"
   ]
  },
  {
   "cell_type": "code",
   "execution_count": null,
   "metadata": {},
   "outputs": [],
   "source": []
  }
 ],
 "metadata": {
  "kernelspec": {
   "display_name": "Python 3",
   "language": "python",
   "name": "python3"
  },
  "language_info": {
   "codemirror_mode": {
    "name": "ipython",
    "version": 3
   },
   "file_extension": ".py",
   "mimetype": "text/x-python",
   "name": "python",
   "nbconvert_exporter": "python",
   "pygments_lexer": "ipython3",
   "version": "3.7.6"
  }
 },
 "nbformat": 4,
 "nbformat_minor": 4
}
