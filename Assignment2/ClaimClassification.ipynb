{
 "cells": [
  {
   "cell_type": "code",
   "execution_count": 1,
   "metadata": {},
   "outputs": [],
   "source": [
    "import numpy as np\n",
    "import pandas as pd\n",
    "import spacy\n",
    "import nltk\n",
    "import json\n",
    "import re\n",
    "from sklearn.feature_extraction.text import CountVectorizer\n",
    "from sklearn.linear_model import LogisticRegression\n",
    "from sklearn import metrics\n",
    "from sklearn.model_selection import GridSearchCV\n",
    "from sklearn.svm import SVC\n",
    "\n",
    "nlp = spacy.load(\"en_core_web_sm\")"
   ]
  },
  {
   "cell_type": "markdown",
   "metadata": {},
   "source": [
    "### Reading the training data and validation data"
   ]
  },
  {
   "cell_type": "code",
   "execution_count": 2,
   "metadata": {},
   "outputs": [],
   "source": [
    "train_data_file = 'train-data-prepared.json'\n",
    "val_data_file = 'val-data-prepared.json'\n",
    "\n",
    "df_train = pd.read_json(train_data_file)\n",
    "df_val = pd.read_json(val_data_file)"
   ]
  },
  {
   "cell_type": "markdown",
   "metadata": {},
   "source": [
    "### Function: Pre-process the text(lower casing, lead/train space stripping,remove punctuations)"
   ]
  },
  {
   "cell_type": "code",
   "execution_count": 3,
   "metadata": {},
   "outputs": [],
   "source": [
    "\n",
    "def PreprocessData(df):\n",
    "    df['clean_text'] = df['text'].str.lower()\n",
    "    df['clean_text'] = df['clean_text'].str.strip()\n",
    "    df['clean_text'] = df['clean_text'].str.replace('[^\\w\\s]','')\n",
    "    return df\n"
   ]
  },
  {
   "cell_type": "markdown",
   "metadata": {},
   "source": [
    "### Function: Linguistic Feature Extraction"
   ]
  },
  {
   "cell_type": "code",
   "execution_count": 4,
   "metadata": {},
   "outputs": [],
   "source": [
    "def FeatureExtract(df):\n",
    "    \n",
    "    df['token_count'] = df['clean_text'].apply(lambda x: len(nlp(x)))\n",
    "\n",
    "    md_exist_list = [] # modal verb\n",
    "    verb_exist_list = [] # verb\n",
    "    prp_exist_list = [] # personal pronouns\n",
    "    vbp_exist_list = [] # verb non 3rd person\n",
    "    adv_exist_list = [] # adverb\n",
    "    conj_exist_list = [] #conjunction/preposition\n",
    "    adj_exist_list = [] #adjective\n",
    "    disc_exist_list = [] # discourse markers\n",
    "\n",
    "    for text in df['clean_text']:\n",
    "        doc = nlp(text)\n",
    "        md_exist = 0\n",
    "        verb_exist = 0\n",
    "        prp_exist = 0\n",
    "        vbp_exist = 0\n",
    "        adv_exist = 0\n",
    "        conj_exist = 0\n",
    "        adj_exist = 0\n",
    "        disc_exist = 0\n",
    "\n",
    "        for token in doc:\n",
    "            if token.tag_ == 'MD':\n",
    "                md_exist = 1\n",
    "\n",
    "            if token.pos_ == 'VERB':\n",
    "                verb_exist = 1\n",
    "\n",
    "            if token.tag_ == 'PRP':\n",
    "                prp_exist = 1\n",
    "\n",
    "            if token.tag_ == 'VBP':\n",
    "                vbp_exist = 1\n",
    "\n",
    "            if token.pos_ == 'ADV':\n",
    "                adv_exist = 1\n",
    "            \n",
    "            if token.dep_ == 'prep':\n",
    "                conj_exist = 1\n",
    "            \n",
    "            if token.pos_ == 'ADJ':\n",
    "                adj_exist = 1\n",
    "            \n",
    "            if token.tag_ == 'IN' and token.pos_!='ADP':\n",
    "                disc_exist = 1\n",
    "\n",
    "        md_exist_list.append(md_exist)\n",
    "        verb_exist_list.append(verb_exist)\n",
    "        prp_exist_list.append(prp_exist)\n",
    "        vbp_exist_list.append(vbp_exist)\n",
    "        adv_exist_list.append(adv_exist)\n",
    "        conj_exist_list.append(conj_exist)\n",
    "        adj_exist_list.append(adj_exist)\n",
    "        disc_exist_list.append(disc_exist)\n",
    "\n",
    "    df['modal_exist'] = md_exist_list\n",
    "    df['verb_exist'] = verb_exist_list\n",
    "    df['prp_exist'] = prp_exist_list\n",
    "    df['vbp_exist'] = vbp_exist_list\n",
    "    df['adv_exist'] = adv_exist_list\n",
    "    df['conj_exist'] = conj_exist_list\n",
    "    df['adj_exist'] = adj_exist_list\n",
    "    df['disc_exist'] = disc_exist_list\n",
    "    return df\n"
   ]
  },
  {
   "cell_type": "markdown",
   "metadata": {},
   "source": [
    "### Preprocess and feature extraction: Train and Val set"
   ]
  },
  {
   "cell_type": "code",
   "execution_count": 5,
   "metadata": {},
   "outputs": [],
   "source": [
    "df_train = PreprocessData(df_train)\n",
    "df_train = FeatureExtract(df_train)\n",
    "\n",
    "df_val = PreprocessData(df_val)\n",
    "df_val = FeatureExtract(df_val)"
   ]
  },
  {
   "cell_type": "markdown",
   "metadata": {},
   "source": [
    "### Feature Extraction using Bag of Words(uni and bigrams): Train and Val set"
   ]
  },
  {
   "cell_type": "code",
   "execution_count": 6,
   "metadata": {},
   "outputs": [],
   "source": [
    "vectorizer = CountVectorizer(ngram_range=(1,2))\n",
    "feature_matrix_bow = vectorizer.fit_transform(df_train['clean_text'])\n",
    "\n",
    "\n",
    "df_features_bow = pd.DataFrame(feature_matrix_bow.toarray())\n",
    "df_features_text = df_train[[\"modal_exist\",\"verb_exist\",\"prp_exist\",\"vbp_exist\",\"adv_exist\",\"conj_exist\",\"adj_exist\",\n",
    "                             \"disc_exist\"]]\n",
    "df_features = pd.concat([df_features_bow,df_features_text],axis = 1)\n",
    "\n",
    "x_train = df_features.values\n",
    "y_train = df_train['label'].values"
   ]
  },
  {
   "cell_type": "code",
   "execution_count": 7,
   "metadata": {},
   "outputs": [],
   "source": [
    "# Transforming the Val/Test dataset with the vectorizer object\n",
    "\n",
    "feature_matrix_bow_val = vectorizer.transform(df_val['clean_text'])\n",
    "\n",
    "df_features_bow_val = pd.DataFrame(feature_matrix_bow_val.toarray())\n",
    "df_features_text_val = df_val[[\"modal_exist\",\"verb_exist\",\"prp_exist\",\"vbp_exist\",\"adv_exist\",\"conj_exist\",\"adj_exist\",\n",
    "                              \"disc_exist\"]]\n",
    "df_features_val = pd.concat([df_features_bow_val,df_features_text_val],axis = 1)\n",
    "\n",
    "x_val = df_features_val.values\n",
    "y_val = df_val['label'].values"
   ]
  },
  {
   "cell_type": "markdown",
   "metadata": {},
   "source": [
    "### Actual training with the best hyperparameters combination"
   ]
  },
  {
   "cell_type": "code",
   "execution_count": 8,
   "metadata": {},
   "outputs": [
    {
     "data": {
      "text/plain": [
       "SVC(C=10.0, break_ties=False, cache_size=200, class_weight=None, coef0=0.0,\n",
       "    decision_function_shape='ovr', degree=3, gamma=0.01, kernel='rbf',\n",
       "    max_iter=-1, probability=False, random_state=None, shrinking=True,\n",
       "    tol=0.001, verbose=False)"
      ]
     },
     "execution_count": 8,
     "metadata": {},
     "output_type": "execute_result"
    }
   ],
   "source": [
    "classifier = SVC(C=10.0, gamma=0.01)\n",
    "# classifier = LogisticRegression(C = 20.0, penalty = 'l2',max_iter=1000)\n",
    "classifier.fit(x_train,y_train)"
   ]
  },
  {
   "cell_type": "code",
   "execution_count": 9,
   "metadata": {},
   "outputs": [
    {
     "name": "stdout",
     "output_type": "stream",
     "text": [
      "0.5042735042735041\n"
     ]
    }
   ],
   "source": [
    "predictions = classifier.predict(x_val)\n",
    "print(metrics.f1_score(y_val,predictions))"
   ]
  },
  {
   "cell_type": "code",
   "execution_count": 10,
   "metadata": {},
   "outputs": [],
   "source": [
    "# Extracting IDs -> Generating a dictionary -> Creating a JSON output file with predictions\n",
    "\n",
    "val_data_id = df_val['id'].values\n",
    "pred_val = dict(zip(val_data_id, predictions))\n",
    "\n",
    "with open('pred_out.json', 'w') as fp:\n",
    "    json.dump(pred_val,fp,default=str)"
   ]
  }
 ],
 "metadata": {
  "kernelspec": {
   "display_name": "Python 3",
   "language": "python",
   "name": "python3"
  },
  "language_info": {
   "codemirror_mode": {
    "name": "ipython",
    "version": 3
   },
   "file_extension": ".py",
   "mimetype": "text/x-python",
   "name": "python",
   "nbconvert_exporter": "python",
   "pygments_lexer": "ipython3",
   "version": "3.7.6"
  }
 },
 "nbformat": 4,
 "nbformat_minor": 4
}
