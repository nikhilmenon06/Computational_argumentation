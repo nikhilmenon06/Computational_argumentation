{
  "nbformat": 4,
  "nbformat_minor": 0,
  "metadata": {
    "kernelspec": {
      "display_name": "Python 3",
      "language": "python",
      "name": "python3"
    },
    "language_info": {
      "codemirror_mode": {
        "name": "ipython",
        "version": 3
      },
      "file_extension": ".py",
      "mimetype": "text/x-python",
      "name": "python",
      "nbconvert_exporter": "python",
      "pygments_lexer": "ipython3",
      "version": "3.8.3"
    },
    "colab": {
      "name": "Argument_assessment.ipynb",
      "provenance": [],
      "collapsed_sections": []
    },
    "accelerator": "GPU"
  },
  "cells": [
    {
      "cell_type": "code",
      "metadata": {
        "id": "HKRgCtldjF17"
      },
      "source": [
        "import numpy as np\n",
        "import pandas as pd\n",
        "import spacy\n",
        "import nltk\n",
        "import json\n",
        "from tensorflow.keras.preprocessing.text import Tokenizer\n",
        "from tensorflow.keras.preprocessing.sequence import pad_sequences\n",
        "from tensorflow.keras.models import Sequential\n",
        "from tensorflow.keras.layers import Dense,LSTM,Embedding\n",
        "from sklearn import metrics\n",
        "\n",
        "\n",
        "nlp = spacy.load(\"en_core_web_sm\")"
      ],
      "execution_count": 36,
      "outputs": []
    },
    {
      "cell_type": "code",
      "metadata": {
        "id": "fNWk-REDjF18"
      },
      "source": [
        "train_data_file = '/content/drive/MyDrive/train-data-prepared.json'\n",
        "val_data_file = '/content/drive/MyDrive/val-data-prepared.json'\n",
        "\n",
        "with open(train_data_file, 'r') as f:\n",
        "  json_data_train = json.load(f)\n",
        "\n",
        "with open(val_data_file, 'r') as f:\n",
        "  json_data_val = json.load(f)\n",
        "\n",
        "\n",
        "init_data_train = pd.json_normalize(json_data_train, record_path='preceding_posts',meta= ['id','label'],max_level=1, record_prefix='_')\n",
        "init_data_val = pd.json_normalize(json_data_val, record_path='preceding_posts',meta= ['id','label'],max_level=1, record_prefix='_')"
      ],
      "execution_count": 21,
      "outputs": []
    },
    {
      "cell_type": "code",
      "metadata": {
        "id": "SP8b6QAyF2Lc"
      },
      "source": [
        "# from google.colab import drive\n",
        "# drive.mount('/content/drive')"
      ],
      "execution_count": 4,
      "outputs": []
    },
    {
      "cell_type": "code",
      "metadata": {
        "colab": {
          "base_uri": "https://localhost:8080/",
          "height": 821
        },
        "id": "yzs7Q0NYjF18",
        "outputId": "eb6bf1bf-3b49-4d73-f8a5-3318acaf83dc"
      },
      "source": [
        "data_train = init_data_train[['id','_body','label']]\n",
        "data_val = init_data_val[['id','_body','label']]\n",
        "display(data_train)\n",
        "display(data_val)"
      ],
      "execution_count": 22,
      "outputs": [
        {
          "output_type": "display_data",
          "data": {
            "text/html": [
              "<div>\n",
              "<style scoped>\n",
              "    .dataframe tbody tr th:only-of-type {\n",
              "        vertical-align: middle;\n",
              "    }\n",
              "\n",
              "    .dataframe tbody tr th {\n",
              "        vertical-align: top;\n",
              "    }\n",
              "\n",
              "    .dataframe thead th {\n",
              "        text-align: right;\n",
              "    }\n",
              "</style>\n",
              "<table border=\"1\" class=\"dataframe\">\n",
              "  <thead>\n",
              "    <tr style=\"text-align: right;\">\n",
              "      <th></th>\n",
              "      <th>id</th>\n",
              "      <th>_body</th>\n",
              "      <th>label</th>\n",
              "    </tr>\n",
              "  </thead>\n",
              "  <tbody>\n",
              "    <tr>\n",
              "      <th>0</th>\n",
              "      <td>t1_dggp3q9</td>\n",
              "      <td>...because it's illegal in our reality, vs. th...</td>\n",
              "      <td>1</td>\n",
              "    </tr>\n",
              "    <tr>\n",
              "      <th>1</th>\n",
              "      <td>t1_dggp3q9</td>\n",
              "      <td>i live in a nation were it is completely legal...</td>\n",
              "      <td>1</td>\n",
              "    </tr>\n",
              "    <tr>\n",
              "      <th>2</th>\n",
              "      <td>t1_dk3zd9h</td>\n",
              "      <td>Because making prostitution legal makes it ver...</td>\n",
              "      <td>0</td>\n",
              "    </tr>\n",
              "    <tr>\n",
              "      <th>3</th>\n",
              "      <td>t1_dk3zd9h</td>\n",
              "      <td>I'd be interested in reading up on this, do yo...</td>\n",
              "      <td>0</td>\n",
              "    </tr>\n",
              "    <tr>\n",
              "      <th>4</th>\n",
              "      <td>t1_d86bsqs</td>\n",
              "      <td>Why are you linking Wikipedia and not direct t...</td>\n",
              "      <td>1</td>\n",
              "    </tr>\n",
              "    <tr>\n",
              "      <th>...</th>\n",
              "      <td>...</td>\n",
              "      <td>...</td>\n",
              "      <td>...</td>\n",
              "    </tr>\n",
              "    <tr>\n",
              "      <th>3867</th>\n",
              "      <td>t1_ch7503g</td>\n",
              "      <td>Wow thanks for the help.\\n\\nOne question, can ...</td>\n",
              "      <td>0</td>\n",
              "    </tr>\n",
              "    <tr>\n",
              "      <th>3868</th>\n",
              "      <td>t1_denmvjy</td>\n",
              "      <td>Okay buddy.</td>\n",
              "      <td>1</td>\n",
              "    </tr>\n",
              "    <tr>\n",
              "      <th>3869</th>\n",
              "      <td>t1_denmvjy</td>\n",
              "      <td>Shrug it off all you want, it's a simple fact....</td>\n",
              "      <td>1</td>\n",
              "    </tr>\n",
              "    <tr>\n",
              "      <th>3870</th>\n",
              "      <td>t1_crtmi2e</td>\n",
              "      <td>It is a thing, I'm not sure if it's universal ...</td>\n",
              "      <td>0</td>\n",
              "    </tr>\n",
              "    <tr>\n",
              "      <th>3871</th>\n",
              "      <td>t1_crtmi2e</td>\n",
              "      <td>But when is it a thing? If you saw a police of...</td>\n",
              "      <td>0</td>\n",
              "    </tr>\n",
              "  </tbody>\n",
              "</table>\n",
              "<p>3872 rows × 3 columns</p>\n",
              "</div>"
            ],
            "text/plain": [
              "              id                                              _body label\n",
              "0     t1_dggp3q9  ...because it's illegal in our reality, vs. th...     1\n",
              "1     t1_dggp3q9  i live in a nation were it is completely legal...     1\n",
              "2     t1_dk3zd9h  Because making prostitution legal makes it ver...     0\n",
              "3     t1_dk3zd9h  I'd be interested in reading up on this, do yo...     0\n",
              "4     t1_d86bsqs  Why are you linking Wikipedia and not direct t...     1\n",
              "...          ...                                                ...   ...\n",
              "3867  t1_ch7503g  Wow thanks for the help.\\n\\nOne question, can ...     0\n",
              "3868  t1_denmvjy                                       Okay buddy.      1\n",
              "3869  t1_denmvjy  Shrug it off all you want, it's a simple fact....     1\n",
              "3870  t1_crtmi2e  It is a thing, I'm not sure if it's universal ...     0\n",
              "3871  t1_crtmi2e  But when is it a thing? If you saw a police of...     0\n",
              "\n",
              "[3872 rows x 3 columns]"
            ]
          },
          "metadata": {
            "tags": []
          }
        },
        {
          "output_type": "display_data",
          "data": {
            "text/html": [
              "<div>\n",
              "<style scoped>\n",
              "    .dataframe tbody tr th:only-of-type {\n",
              "        vertical-align: middle;\n",
              "    }\n",
              "\n",
              "    .dataframe tbody tr th {\n",
              "        vertical-align: top;\n",
              "    }\n",
              "\n",
              "    .dataframe thead th {\n",
              "        text-align: right;\n",
              "    }\n",
              "</style>\n",
              "<table border=\"1\" class=\"dataframe\">\n",
              "  <thead>\n",
              "    <tr style=\"text-align: right;\">\n",
              "      <th></th>\n",
              "      <th>id</th>\n",
              "      <th>_body</th>\n",
              "      <th>label</th>\n",
              "    </tr>\n",
              "  </thead>\n",
              "  <tbody>\n",
              "    <tr>\n",
              "      <th>0</th>\n",
              "      <td>t1_dipwvtv</td>\n",
              "      <td>&gt;At this point it seems clear that we have ver...</td>\n",
              "      <td>1</td>\n",
              "    </tr>\n",
              "    <tr>\n",
              "      <th>1</th>\n",
              "      <td>t1_dipwvtv</td>\n",
              "      <td>&gt;This is a disgusting attitude that glorifies ...</td>\n",
              "      <td>1</td>\n",
              "    </tr>\n",
              "    <tr>\n",
              "      <th>2</th>\n",
              "      <td>t1_dctegi4</td>\n",
              "      <td>The black community and LGBTQ rights is a grea...</td>\n",
              "      <td>0</td>\n",
              "    </tr>\n",
              "    <tr>\n",
              "      <th>3</th>\n",
              "      <td>t1_dctegi4</td>\n",
              "      <td>Thank you for taking the time to share your pe...</td>\n",
              "      <td>0</td>\n",
              "    </tr>\n",
              "    <tr>\n",
              "      <th>4</th>\n",
              "      <td>t1_d4vri90</td>\n",
              "      <td>So what?</td>\n",
              "      <td>1</td>\n",
              "    </tr>\n",
              "    <tr>\n",
              "      <th>...</th>\n",
              "      <td>...</td>\n",
              "      <td>...</td>\n",
              "      <td>...</td>\n",
              "    </tr>\n",
              "    <tr>\n",
              "      <th>511</th>\n",
              "      <td>t1_cpcigu7</td>\n",
              "      <td>But sexual harassment is also not a bathroom p...</td>\n",
              "      <td>0</td>\n",
              "    </tr>\n",
              "    <tr>\n",
              "      <th>512</th>\n",
              "      <td>t1_cnu1fi5</td>\n",
              "      <td>We think the government is this thing imposing...</td>\n",
              "      <td>1</td>\n",
              "    </tr>\n",
              "    <tr>\n",
              "      <th>513</th>\n",
              "      <td>t1_cnu1fi5</td>\n",
              "      <td>&gt;We think the government is this thing imposin...</td>\n",
              "      <td>1</td>\n",
              "    </tr>\n",
              "    <tr>\n",
              "      <th>514</th>\n",
              "      <td>t1_dhdub9z</td>\n",
              "      <td>Can you elaborate, what are \"gun free zones\" i...</td>\n",
              "      <td>0</td>\n",
              "    </tr>\n",
              "    <tr>\n",
              "      <th>515</th>\n",
              "      <td>t1_dhdub9z</td>\n",
              "      <td>&gt;Can you elaborate, what are \"gun free zones\" ...</td>\n",
              "      <td>0</td>\n",
              "    </tr>\n",
              "  </tbody>\n",
              "</table>\n",
              "<p>516 rows × 3 columns</p>\n",
              "</div>"
            ],
            "text/plain": [
              "             id                                              _body label\n",
              "0    t1_dipwvtv  >At this point it seems clear that we have ver...     1\n",
              "1    t1_dipwvtv  >This is a disgusting attitude that glorifies ...     1\n",
              "2    t1_dctegi4  The black community and LGBTQ rights is a grea...     0\n",
              "3    t1_dctegi4  Thank you for taking the time to share your pe...     0\n",
              "4    t1_d4vri90                                          So what?      1\n",
              "..          ...                                                ...   ...\n",
              "511  t1_cpcigu7  But sexual harassment is also not a bathroom p...     0\n",
              "512  t1_cnu1fi5  We think the government is this thing imposing...     1\n",
              "513  t1_cnu1fi5  >We think the government is this thing imposin...     1\n",
              "514  t1_dhdub9z  Can you elaborate, what are \"gun free zones\" i...     0\n",
              "515  t1_dhdub9z  >Can you elaborate, what are \"gun free zones\" ...     0\n",
              "\n",
              "[516 rows x 3 columns]"
            ]
          },
          "metadata": {
            "tags": []
          }
        }
      ]
    },
    {
      "cell_type": "code",
      "metadata": {
        "id": "ihmhWm_KjF19"
      },
      "source": [
        "def PreprocessData(df):\n",
        "  df['clean_text'] = df['_body'].str.lower()\n",
        "  df['clean_text'] = df['clean_text'].str.replace('http[s]?://(?:[a-zA-Z]|[0-9]|[$-_@.&+]|[!*\\(\\),]|(?:%[0-9a-fA-F][0-9a-fA-F]))+', ' ')\n",
        "  df['clean_text'] = df['clean_text'].str.strip()\n",
        "  df['clean_text'] = df['clean_text'].str.replace('[^\\w\\s]','')\n",
        "  return df"
      ],
      "execution_count": 23,
      "outputs": []
    },
    {
      "cell_type": "code",
      "metadata": {
        "id": "OetDiWoqjF19",
        "colab": {
          "base_uri": "https://localhost:8080/"
        },
        "outputId": "6a05d3ab-10c1-48d3-c44f-4f310597fa78"
      },
      "source": [
        "df_train = PreprocessData(data_train)\n",
        "df_val = PreprocessData(data_val)\n",
        "print(df_train.head(6))"
      ],
      "execution_count": 24,
      "outputs": [
        {
          "output_type": "stream",
          "text": [
            "           id  ...                                         clean_text\n",
            "0  t1_dggp3q9  ...  because its illegal in our reality vs the prop...\n",
            "1  t1_dggp3q9  ...  i live in a nation were it is completely legal...\n",
            "2  t1_dk3zd9h  ...  because making prostitution legal makes it ver...\n",
            "3  t1_dk3zd9h  ...  id be interested in reading up on this do you ...\n",
            "4  t1_d86bsqs  ...  why are you linking wikipedia and not direct t...\n",
            "5  t1_d86bsqs  ...  i put the wiki because i figured you may want ...\n",
            "\n",
            "[6 rows x 4 columns]\n"
          ],
          "name": "stdout"
        },
        {
          "output_type": "stream",
          "text": [
            "/usr/local/lib/python3.7/dist-packages/ipykernel_launcher.py:2: SettingWithCopyWarning: \n",
            "A value is trying to be set on a copy of a slice from a DataFrame.\n",
            "Try using .loc[row_indexer,col_indexer] = value instead\n",
            "\n",
            "See the caveats in the documentation: https://pandas.pydata.org/pandas-docs/stable/user_guide/indexing.html#returning-a-view-versus-a-copy\n",
            "  \n",
            "/usr/local/lib/python3.7/dist-packages/ipykernel_launcher.py:3: SettingWithCopyWarning: \n",
            "A value is trying to be set on a copy of a slice from a DataFrame.\n",
            "Try using .loc[row_indexer,col_indexer] = value instead\n",
            "\n",
            "See the caveats in the documentation: https://pandas.pydata.org/pandas-docs/stable/user_guide/indexing.html#returning-a-view-versus-a-copy\n",
            "  This is separate from the ipykernel package so we can avoid doing imports until\n",
            "/usr/local/lib/python3.7/dist-packages/ipykernel_launcher.py:4: SettingWithCopyWarning: \n",
            "A value is trying to be set on a copy of a slice from a DataFrame.\n",
            "Try using .loc[row_indexer,col_indexer] = value instead\n",
            "\n",
            "See the caveats in the documentation: https://pandas.pydata.org/pandas-docs/stable/user_guide/indexing.html#returning-a-view-versus-a-copy\n",
            "  after removing the cwd from sys.path.\n",
            "/usr/local/lib/python3.7/dist-packages/ipykernel_launcher.py:5: SettingWithCopyWarning: \n",
            "A value is trying to be set on a copy of a slice from a DataFrame.\n",
            "Try using .loc[row_indexer,col_indexer] = value instead\n",
            "\n",
            "See the caveats in the documentation: https://pandas.pydata.org/pandas-docs/stable/user_guide/indexing.html#returning-a-view-versus-a-copy\n",
            "  \"\"\"\n"
          ],
          "name": "stderr"
        }
      ]
    },
    {
      "cell_type": "code",
      "metadata": {
        "id": "8qBEsKMJmY1f"
      },
      "source": [
        "def ConcatenatePost(df):\n",
        "  df['clean_text_copy'] = df.groupby(['id'])['clean_text'].transform(lambda x : ' '.join(x))\n",
        "  df['clean_text'] = df.groupby(['id'])['clean_text'].transform(lambda x : '||'.join(x))\n",
        "  df['_body'] = df.groupby(['id'])['_body'].transform(lambda x : '|'.join(x))\n",
        "  df['label'] = df.groupby(['id'])['label'].transform('max')\n",
        "  df = df.drop_duplicates(inplace=False)\n",
        "  return df\n"
      ],
      "execution_count": 19,
      "outputs": []
    },
    {
      "cell_type": "code",
      "metadata": {
        "id": "GV1UTAhQjF19",
        "colab": {
          "base_uri": "https://localhost:8080/",
          "height": 827
        },
        "outputId": "d30e1d25-2dbe-4e24-a747-f8d0cab3d7ad"
      },
      "source": [
        "df_train = ConcatenatePost(df_train)\n",
        "df_val = ConcatenatePost(df_val)\n",
        "# delete later\n",
        "display(df_val)"
      ],
      "execution_count": 25,
      "outputs": [
        {
          "output_type": "stream",
          "text": [
            "/usr/local/lib/python3.7/dist-packages/ipykernel_launcher.py:2: SettingWithCopyWarning: \n",
            "A value is trying to be set on a copy of a slice from a DataFrame.\n",
            "Try using .loc[row_indexer,col_indexer] = value instead\n",
            "\n",
            "See the caveats in the documentation: https://pandas.pydata.org/pandas-docs/stable/user_guide/indexing.html#returning-a-view-versus-a-copy\n",
            "  \n",
            "/usr/local/lib/python3.7/dist-packages/ipykernel_launcher.py:3: SettingWithCopyWarning: \n",
            "A value is trying to be set on a copy of a slice from a DataFrame.\n",
            "Try using .loc[row_indexer,col_indexer] = value instead\n",
            "\n",
            "See the caveats in the documentation: https://pandas.pydata.org/pandas-docs/stable/user_guide/indexing.html#returning-a-view-versus-a-copy\n",
            "  This is separate from the ipykernel package so we can avoid doing imports until\n",
            "/usr/local/lib/python3.7/dist-packages/ipykernel_launcher.py:4: SettingWithCopyWarning: \n",
            "A value is trying to be set on a copy of a slice from a DataFrame.\n",
            "Try using .loc[row_indexer,col_indexer] = value instead\n",
            "\n",
            "See the caveats in the documentation: https://pandas.pydata.org/pandas-docs/stable/user_guide/indexing.html#returning-a-view-versus-a-copy\n",
            "  after removing the cwd from sys.path.\n",
            "/usr/local/lib/python3.7/dist-packages/ipykernel_launcher.py:5: SettingWithCopyWarning: \n",
            "A value is trying to be set on a copy of a slice from a DataFrame.\n",
            "Try using .loc[row_indexer,col_indexer] = value instead\n",
            "\n",
            "See the caveats in the documentation: https://pandas.pydata.org/pandas-docs/stable/user_guide/indexing.html#returning-a-view-versus-a-copy\n",
            "  \"\"\"\n"
          ],
          "name": "stderr"
        },
        {
          "output_type": "display_data",
          "data": {
            "text/html": [
              "<div>\n",
              "<style scoped>\n",
              "    .dataframe tbody tr th:only-of-type {\n",
              "        vertical-align: middle;\n",
              "    }\n",
              "\n",
              "    .dataframe tbody tr th {\n",
              "        vertical-align: top;\n",
              "    }\n",
              "\n",
              "    .dataframe thead th {\n",
              "        text-align: right;\n",
              "    }\n",
              "</style>\n",
              "<table border=\"1\" class=\"dataframe\">\n",
              "  <thead>\n",
              "    <tr style=\"text-align: right;\">\n",
              "      <th></th>\n",
              "      <th>id</th>\n",
              "      <th>_body</th>\n",
              "      <th>label</th>\n",
              "      <th>clean_text</th>\n",
              "      <th>clean_text_copy</th>\n",
              "    </tr>\n",
              "  </thead>\n",
              "  <tbody>\n",
              "    <tr>\n",
              "      <th>0</th>\n",
              "      <td>t1_dipwvtv</td>\n",
              "      <td>&gt;At this point it seems clear that we have ver...</td>\n",
              "      <td>1</td>\n",
              "      <td>at this point it seems clear that we have very...</td>\n",
              "      <td>at this point it seems clear that we have very...</td>\n",
              "    </tr>\n",
              "    <tr>\n",
              "      <th>2</th>\n",
              "      <td>t1_dctegi4</td>\n",
              "      <td>The black community and LGBTQ rights is a grea...</td>\n",
              "      <td>0</td>\n",
              "      <td>the black community and lgbtq rights is a grea...</td>\n",
              "      <td>the black community and lgbtq rights is a grea...</td>\n",
              "    </tr>\n",
              "    <tr>\n",
              "      <th>4</th>\n",
              "      <td>t1_d4vri90</td>\n",
              "      <td>So what? |What do you imagine being a 'protect...</td>\n",
              "      <td>1</td>\n",
              "      <td>so what||what do you imagine being a protected...</td>\n",
              "      <td>so what what do you imagine being a protected ...</td>\n",
              "    </tr>\n",
              "    <tr>\n",
              "      <th>6</th>\n",
              "      <td>t1_d2v90lz</td>\n",
              "      <td>The US does not want free migration. In fact w...</td>\n",
              "      <td>0</td>\n",
              "      <td>the us does not want free migration in fact we...</td>\n",
              "      <td>the us does not want free migration in fact we...</td>\n",
              "    </tr>\n",
              "    <tr>\n",
              "      <th>8</th>\n",
              "      <td>t1_dd1k4g6</td>\n",
              "      <td>You didn't talk about the crowd size because y...</td>\n",
              "      <td>1</td>\n",
              "      <td>you didnt talk about the crowd size because yo...</td>\n",
              "      <td>you didnt talk about the crowd size because yo...</td>\n",
              "    </tr>\n",
              "    <tr>\n",
              "      <th>...</th>\n",
              "      <td>...</td>\n",
              "      <td>...</td>\n",
              "      <td>...</td>\n",
              "      <td>...</td>\n",
              "      <td>...</td>\n",
              "    </tr>\n",
              "    <tr>\n",
              "      <th>506</th>\n",
              "      <td>t1_cgmqm3y</td>\n",
              "      <td>I hear the \"equality of opportunity\" rhetoric ...</td>\n",
              "      <td>0</td>\n",
              "      <td>i hear the equality of opportunity rhetoric qu...</td>\n",
              "      <td>i hear the equality of opportunity rhetoric qu...</td>\n",
              "    </tr>\n",
              "    <tr>\n",
              "      <th>508</th>\n",
              "      <td>t1_cvoj5re</td>\n",
              "      <td>&gt;So obviously, the realistic solution to solve...</td>\n",
              "      <td>1</td>\n",
              "      <td>so obviously the realistic solution to solve t...</td>\n",
              "      <td>so obviously the realistic solution to solve t...</td>\n",
              "    </tr>\n",
              "    <tr>\n",
              "      <th>510</th>\n",
              "      <td>t1_cpcigu7</td>\n",
              "      <td>Again, sexual harassment is not a \"US\" problem...</td>\n",
              "      <td>0</td>\n",
              "      <td>again sexual harassment is not a us problem th...</td>\n",
              "      <td>again sexual harassment is not a us problem th...</td>\n",
              "    </tr>\n",
              "    <tr>\n",
              "      <th>512</th>\n",
              "      <td>t1_cnu1fi5</td>\n",
              "      <td>We think the government is this thing imposing...</td>\n",
              "      <td>1</td>\n",
              "      <td>we think the government is this thing imposing...</td>\n",
              "      <td>we think the government is this thing imposing...</td>\n",
              "    </tr>\n",
              "    <tr>\n",
              "      <th>514</th>\n",
              "      <td>t1_dhdub9z</td>\n",
              "      <td>Can you elaborate, what are \"gun free zones\" i...</td>\n",
              "      <td>0</td>\n",
              "      <td>can you elaborate what are gun free zones in a...</td>\n",
              "      <td>can you elaborate what are gun free zones in a...</td>\n",
              "    </tr>\n",
              "  </tbody>\n",
              "</table>\n",
              "<p>258 rows × 5 columns</p>\n",
              "</div>"
            ],
            "text/plain": [
              "             id  ...                                    clean_text_copy\n",
              "0    t1_dipwvtv  ...  at this point it seems clear that we have very...\n",
              "2    t1_dctegi4  ...  the black community and lgbtq rights is a grea...\n",
              "4    t1_d4vri90  ...  so what what do you imagine being a protected ...\n",
              "6    t1_d2v90lz  ...  the us does not want free migration in fact we...\n",
              "8    t1_dd1k4g6  ...  you didnt talk about the crowd size because yo...\n",
              "..          ...  ...                                                ...\n",
              "506  t1_cgmqm3y  ...  i hear the equality of opportunity rhetoric qu...\n",
              "508  t1_cvoj5re  ...  so obviously the realistic solution to solve t...\n",
              "510  t1_cpcigu7  ...  again sexual harassment is not a us problem th...\n",
              "512  t1_cnu1fi5  ...  we think the government is this thing imposing...\n",
              "514  t1_dhdub9z  ...  can you elaborate what are gun free zones in a...\n",
              "\n",
              "[258 rows x 5 columns]"
            ]
          },
          "metadata": {
            "tags": []
          }
        }
      ]
    },
    {
      "cell_type": "code",
      "metadata": {
        "id": "BOaNf7SOGOXi",
        "colab": {
          "base_uri": "https://localhost:8080/"
        },
        "outputId": "f9abf235-45a1-4c25-e86a-fd1cacaf8949"
      },
      "source": [
        "print(df_val['clean_text_copy'][0])"
      ],
      "execution_count": 26,
      "outputs": [
        {
          "output_type": "stream",
          "text": [
            "at this point it seems clear that we have very different definitions of bigotry but i wont get into that because semantics are rarely a fruitful exercise\n",
            "\n",
            "you mean you wont get into it because then you would have to admit that you are defending the right of bigots to engage in prejudicial treatment of others and that is morally indefensible\n",
            "\n",
            "its not that i think life should be fair to the bigot its that i will resist any attempt to introduce government coercion in the free market people should be allowed to run businesses as they please and if those businesses are run by shitty people you can take your money elsewhere if a business with horrible practices is able to thrive that is more indicative of a problem with society not just the business owner\n",
            "\n",
            "this is a disgusting attitude that glorifies those with power over those who have none  this is the heart of fascism power to the strong fuck the weak\n",
            "\n",
            "i sincerely hope that you are made the victim of prejudice and bigotry so that you can one day understand how disgusting and malignant your beliefs are this is a disgusting attitude that glorifies those with power over those who have none this is the heart of fascism\n",
            "\n",
            "okay so now were getting into ad hominems got it i find it interesting how im the one denouncing creeping authoritarianism and youre the one calling that fascist im not convinced you know what fascism actually means\n",
            "\n",
            "you mean you wont get into it because then you would have to admit that you are defending the right of bigots to engage in prejudicial treatment of others and that is morally indefensible\n",
            "\n",
            "bigotry noun intolerance to those who hold different opinions from oneself\n",
            "\n",
            "i sincerely hope that you are made the victim of prejudice and bigotry so that you can one day understand how disgusting and malignant your beliefs are\n",
            "\n",
            "hmmm wishing ill will upon those who are different from you sounds a lot like how you described those bakers refusing to bake a cake for gay couples also seems to fit nicely into that definition of bigotry i listed above\n",
            "\n",
            "bigotry comes in many forms thinking that anyone who isnt a neoprogressive liberal such as yourself is a bigot is one of those forms i sincerely hope you take some time to reflect on how you view others with whom you disagree because i cant see how anyone with so much animosity could possibly be happy\n",
            "\n",
            "enjoy your weekend the weathers gorgeous here i hope its nice where you are too\n"
          ],
          "name": "stdout"
        }
      ]
    },
    {
      "cell_type": "code",
      "metadata": {
        "id": "AzsHUeCzqGIe"
      },
      "source": [
        "max_vocab = 2500\n",
        "tokenizer = Tokenizer(num_words = max_vocab,split = ' ', oov_token=1 )"
      ],
      "execution_count": 31,
      "outputs": []
    },
    {
      "cell_type": "code",
      "metadata": {
        "id": "m5RfpMV4pSvA"
      },
      "source": [
        "tokenizer.fit_on_texts(df_train['clean_text_copy'].values)\n",
        "x_train_neural =  tokenizer.texts_to_sequences(df_train['clean_text_copy'].values)\n",
        "x_val_neural = tokenizer.texts_to_sequences(df_val['clean_text_copy'])\n",
        "\n",
        "max_length = max(len(s.split()) for s in df_train['clean_text_copy'].values)\n",
        "x_train_neural = pad_sequences(x_train_neural,maxlen=max_length)\n",
        "x_val_neural = pad_sequences(x_val_neural,maxlen=max_length)\n",
        "\n",
        "y_train = df_train['label'].values\n",
        "y_val = df_val['label'].values"
      ],
      "execution_count": 33,
      "outputs": []
    },
    {
      "cell_type": "code",
      "metadata": {
        "colab": {
          "base_uri": "https://localhost:8080/"
        },
        "id": "qqhIfaoY1T_U",
        "outputId": "2934bcbb-1f88-48fd-a1db-f0521c4b5c86"
      },
      "source": [
        "print(x_train_neural.shape)\n",
        "print(x_train_neural)\n",
        "\n",
        "print(x_val_neural.shape)\n",
        "print(x_val_neural)"
      ],
      "execution_count": 34,
      "outputs": [
        {
          "output_type": "stream",
          "text": [
            "(1936, 3033)\n",
            "[[   0    0    0 ...   72    2  119]\n",
            " [   0    0    0 ...    1   18    1]\n",
            " [   0    0    0 ...    2 2075   50]\n",
            " ...\n",
            " [   0    0    0 ...   12   43    6]\n",
            " [   0    0    0 ...    1    9   13]\n",
            " [   0    0    0 ...   27  153    1]]\n",
            "(258, 3033)\n",
            "[[   0    0    0 ...    8   14  175]\n",
            " [   0    0    0 ... 1572   11  710]\n",
            " [   0    0    0 ...    5  274  624]\n",
            " ...\n",
            " [   0    0    0 ...    2 1461  155]\n",
            " [   0    0    0 ...    5    1   12]\n",
            " [   0    0    0 ... 1415    1  188]]\n"
          ],
          "name": "stdout"
        }
      ]
    },
    {
      "cell_type": "code",
      "metadata": {
        "colab": {
          "base_uri": "https://localhost:8080/"
        },
        "id": "VgxG_HjT1Ws1",
        "outputId": "1c7b6f07-42b7-4912-c7fa-f762a47e9262"
      },
      "source": [
        "embed_dim = 32\n",
        "lstm_out = 50\n",
        "\n",
        "model = Sequential()\n",
        "model.add(Embedding(max_vocab,embed_dim,input_length = x_train_neural.shape[1]))\n",
        "# model.add(SpatialDropout1D(0.4))\n",
        "model.add(LSTM(lstm_out,dropout = 0.2,recurrent_dropout = 0.2))\n",
        "model.add(Dense(1,activation = 'sigmoid'))\n",
        "model.compile(loss = 'binary_crossentropy', optimizer='adam',metrics = ['accuracy'])"
      ],
      "execution_count": 13,
      "outputs": [
        {
          "output_type": "stream",
          "text": [
            "WARNING:tensorflow:Layer lstm will not use cuDNN kernels since it doesn't meet the criteria. It will use a generic GPU kernel as fallback when running on GPU.\n"
          ],
          "name": "stdout"
        }
      ]
    },
    {
      "cell_type": "code",
      "metadata": {
        "colab": {
          "base_uri": "https://localhost:8080/"
        },
        "id": "Ff1wcWIl1i54",
        "outputId": "33ff13a9-aaed-4e39-bd3b-a5583557a949"
      },
      "source": [
        "print(model.summary())"
      ],
      "execution_count": 14,
      "outputs": [
        {
          "output_type": "stream",
          "text": [
            "Model: \"sequential\"\n",
            "_________________________________________________________________\n",
            "Layer (type)                 Output Shape              Param #   \n",
            "=================================================================\n",
            "embedding (Embedding)        (None, 3033, 32)          80000     \n",
            "_________________________________________________________________\n",
            "lstm (LSTM)                  (None, 50)                16600     \n",
            "_________________________________________________________________\n",
            "dense (Dense)                (None, 1)                 51        \n",
            "=================================================================\n",
            "Total params: 96,651\n",
            "Trainable params: 96,651\n",
            "Non-trainable params: 0\n",
            "_________________________________________________________________\n",
            "None\n"
          ],
          "name": "stdout"
        }
      ]
    },
    {
      "cell_type": "code",
      "metadata": {
        "colab": {
          "base_uri": "https://localhost:8080/"
        },
        "id": "k3nmrpB6N11V",
        "outputId": "08b88769-47e1-4a76-fb38-69c906ccfb49"
      },
      "source": [
        "print(x_train_neural.shape)\n",
        "print(y_train.shape)"
      ],
      "execution_count": 15,
      "outputs": [
        {
          "output_type": "stream",
          "text": [
            "(1936, 3033)\n",
            "(1936,)\n"
          ],
          "name": "stdout"
        }
      ]
    },
    {
      "cell_type": "code",
      "metadata": {
        "colab": {
          "base_uri": "https://localhost:8080/"
        },
        "id": "-HVr7Sh9RaHv",
        "outputId": "1c98889c-db18-4592-937b-373319a77fe1"
      },
      "source": [
        "model.fit(x_train_neural, y_train, epochs = 7, batch_size = 64, verbose = 2)"
      ],
      "execution_count": 16,
      "outputs": [
        {
          "output_type": "stream",
          "text": [
            "Epoch 1/7\n",
            "31/31 - 340s - loss: 0.6926 - accuracy: 0.5165\n",
            "Epoch 2/7\n",
            "31/31 - 333s - loss: 0.6554 - accuracy: 0.6544\n",
            "Epoch 3/7\n",
            "31/31 - 333s - loss: 0.5228 - accuracy: 0.7624\n",
            "Epoch 4/7\n",
            "31/31 - 328s - loss: 0.4126 - accuracy: 0.8337\n",
            "Epoch 5/7\n",
            "31/31 - 326s - loss: 0.3126 - accuracy: 0.8786\n",
            "Epoch 6/7\n",
            "31/31 - 329s - loss: 0.2724 - accuracy: 0.8951\n",
            "Epoch 7/7\n",
            "31/31 - 330s - loss: 0.2242 - accuracy: 0.9220\n"
          ],
          "name": "stdout"
        },
        {
          "output_type": "execute_result",
          "data": {
            "text/plain": [
              "<tensorflow.python.keras.callbacks.History at 0x7f186e88d5d0>"
            ]
          },
          "metadata": {
            "tags": []
          },
          "execution_count": 16
        }
      ]
    },
    {
      "cell_type": "code",
      "metadata": {
        "colab": {
          "base_uri": "https://localhost:8080/"
        },
        "id": "uMKtmDuCT5kf",
        "outputId": "56e2134c-313f-47d5-ff6c-e73652271d2f"
      },
      "source": [
        "max_length = max(len(s.split()) for s in df_train['clean_text_copy'].values)\n",
        "print(max_length)"
      ],
      "execution_count": 30,
      "outputs": [
        {
          "output_type": "stream",
          "text": [
            "3033\n"
          ],
          "name": "stdout"
        }
      ]
    },
    {
      "cell_type": "code",
      "metadata": {
        "id": "kr5mujppwA6B"
      },
      "source": [
        "predictions = model.predict(x_val_neural)"
      ],
      "execution_count": 42,
      "outputs": []
    },
    {
      "cell_type": "code",
      "metadata": {
        "colab": {
          "base_uri": "https://localhost:8080/"
        },
        "id": "UCUFHkdoyAsI",
        "outputId": "032af83f-3b00-4d84-b152-1bdf5f8fdb1c"
      },
      "source": [
        "print(metrics.f1_score(y_val,predictions_final))"
      ],
      "execution_count": 46,
      "outputs": [
        {
          "output_type": "stream",
          "text": [
            "0.7499999999999999\n"
          ],
          "name": "stdout"
        }
      ]
    },
    {
      "cell_type": "code",
      "metadata": {
        "id": "QpqQcEcByVC1"
      },
      "source": [
        "# print(predictions)"
      ],
      "execution_count": 47,
      "outputs": []
    },
    {
      "cell_type": "code",
      "metadata": {
        "id": "r1HEctA1yZBi"
      },
      "source": [
        "predictions_final = np.where(predictions < 0.5, 0, 1)"
      ],
      "execution_count": 44,
      "outputs": []
    },
    {
      "cell_type": "code",
      "metadata": {
        "id": "gotqctuk1c5D"
      },
      "source": [
        "# print(predictions_final)"
      ],
      "execution_count": 48,
      "outputs": []
    },
    {
      "cell_type": "code",
      "metadata": {
        "colab": {
          "base_uri": "https://localhost:8080/",
          "height": 419
        },
        "id": "r2CqB0r21m99",
        "outputId": "795f1293-601d-4a0e-f52d-b5c67c92f80e"
      },
      "source": [
        "display(df_train)"
      ],
      "execution_count": 49,
      "outputs": [
        {
          "output_type": "display_data",
          "data": {
            "text/html": [
              "<div>\n",
              "<style scoped>\n",
              "    .dataframe tbody tr th:only-of-type {\n",
              "        vertical-align: middle;\n",
              "    }\n",
              "\n",
              "    .dataframe tbody tr th {\n",
              "        vertical-align: top;\n",
              "    }\n",
              "\n",
              "    .dataframe thead th {\n",
              "        text-align: right;\n",
              "    }\n",
              "</style>\n",
              "<table border=\"1\" class=\"dataframe\">\n",
              "  <thead>\n",
              "    <tr style=\"text-align: right;\">\n",
              "      <th></th>\n",
              "      <th>id</th>\n",
              "      <th>_body</th>\n",
              "      <th>label</th>\n",
              "      <th>clean_text</th>\n",
              "      <th>clean_text_copy</th>\n",
              "    </tr>\n",
              "  </thead>\n",
              "  <tbody>\n",
              "    <tr>\n",
              "      <th>0</th>\n",
              "      <td>t1_dggp3q9</td>\n",
              "      <td>...because it's illegal in our reality, vs. th...</td>\n",
              "      <td>1</td>\n",
              "      <td>because its illegal in our reality vs the prop...</td>\n",
              "      <td>because its illegal in our reality vs the prop...</td>\n",
              "    </tr>\n",
              "    <tr>\n",
              "      <th>2</th>\n",
              "      <td>t1_dk3zd9h</td>\n",
              "      <td>Because making prostitution legal makes it ver...</td>\n",
              "      <td>0</td>\n",
              "      <td>because making prostitution legal makes it ver...</td>\n",
              "      <td>because making prostitution legal makes it ver...</td>\n",
              "    </tr>\n",
              "    <tr>\n",
              "      <th>4</th>\n",
              "      <td>t1_d86bsqs</td>\n",
              "      <td>Why are you linking Wikipedia and not direct t...</td>\n",
              "      <td>1</td>\n",
              "      <td>why are you linking wikipedia and not direct t...</td>\n",
              "      <td>why are you linking wikipedia and not direct t...</td>\n",
              "    </tr>\n",
              "    <tr>\n",
              "      <th>6</th>\n",
              "      <td>t1_cpzy2ya</td>\n",
              "      <td>&gt;Real property has a \"logical absolute necessi...</td>\n",
              "      <td>0</td>\n",
              "      <td>real property has a logical absolute necessity...</td>\n",
              "      <td>real property has a logical absolute necessity...</td>\n",
              "    </tr>\n",
              "    <tr>\n",
              "      <th>8</th>\n",
              "      <td>t1_d92nfmh</td>\n",
              "      <td>&gt;Are you really defending multinationals not b...</td>\n",
              "      <td>1</td>\n",
              "      <td>are you really defending multinationals not be...</td>\n",
              "      <td>are you really defending multinationals not be...</td>\n",
              "    </tr>\n",
              "    <tr>\n",
              "      <th>...</th>\n",
              "      <td>...</td>\n",
              "      <td>...</td>\n",
              "      <td>...</td>\n",
              "      <td>...</td>\n",
              "      <td>...</td>\n",
              "    </tr>\n",
              "    <tr>\n",
              "      <th>3862</th>\n",
              "      <td>t1_cpet2nu</td>\n",
              "      <td>You are totally right, I completely flubbed it...</td>\n",
              "      <td>0</td>\n",
              "      <td>you are totally right i completely flubbed it ...</td>\n",
              "      <td>you are totally right i completely flubbed it ...</td>\n",
              "    </tr>\n",
              "    <tr>\n",
              "      <th>3864</th>\n",
              "      <td>t1_ck91k4x</td>\n",
              "      <td>LOL \"ethical butcher\" is like \"clean coal\" and...</td>\n",
              "      <td>1</td>\n",
              "      <td>lol ethical butcher is like clean coal and a j...</td>\n",
              "      <td>lol ethical butcher is like clean coal and a j...</td>\n",
              "    </tr>\n",
              "    <tr>\n",
              "      <th>3866</th>\n",
              "      <td>t1_ch7503g</td>\n",
              "      <td>&gt;I'm been stuck with this debate with myself f...</td>\n",
              "      <td>0</td>\n",
              "      <td>im been stuck with this debate with myself for...</td>\n",
              "      <td>im been stuck with this debate with myself for...</td>\n",
              "    </tr>\n",
              "    <tr>\n",
              "      <th>3868</th>\n",
              "      <td>t1_denmvjy</td>\n",
              "      <td>Okay buddy. |Shrug it off all you want, it's a...</td>\n",
              "      <td>1</td>\n",
              "      <td>okay buddy||shrug it off all you want its a si...</td>\n",
              "      <td>okay buddy shrug it off all you want its a sim...</td>\n",
              "    </tr>\n",
              "    <tr>\n",
              "      <th>3870</th>\n",
              "      <td>t1_crtmi2e</td>\n",
              "      <td>It is a thing, I'm not sure if it's universal ...</td>\n",
              "      <td>0</td>\n",
              "      <td>it is a thing im not sure if its universal or ...</td>\n",
              "      <td>it is a thing im not sure if its universal or ...</td>\n",
              "    </tr>\n",
              "  </tbody>\n",
              "</table>\n",
              "<p>1936 rows × 5 columns</p>\n",
              "</div>"
            ],
            "text/plain": [
              "              id  ...                                    clean_text_copy\n",
              "0     t1_dggp3q9  ...  because its illegal in our reality vs the prop...\n",
              "2     t1_dk3zd9h  ...  because making prostitution legal makes it ver...\n",
              "4     t1_d86bsqs  ...  why are you linking wikipedia and not direct t...\n",
              "6     t1_cpzy2ya  ...  real property has a logical absolute necessity...\n",
              "8     t1_d92nfmh  ...  are you really defending multinationals not be...\n",
              "...          ...  ...                                                ...\n",
              "3862  t1_cpet2nu  ...  you are totally right i completely flubbed it ...\n",
              "3864  t1_ck91k4x  ...  lol ethical butcher is like clean coal and a j...\n",
              "3866  t1_ch7503g  ...  im been stuck with this debate with myself for...\n",
              "3868  t1_denmvjy  ...  okay buddy shrug it off all you want its a sim...\n",
              "3870  t1_crtmi2e  ...  it is a thing im not sure if its universal or ...\n",
              "\n",
              "[1936 rows x 5 columns]"
            ]
          },
          "metadata": {
            "tags": []
          }
        }
      ]
    },
    {
      "cell_type": "code",
      "metadata": {
        "colab": {
          "base_uri": "https://localhost:8080/"
        },
        "id": "JXrKjh-J9Ov_",
        "outputId": "31705886-caf7-4ef1-a4c9-ce3495030fa0"
      },
      "source": [
        "text = \"Screw you off all you want, it's a simple fact. Assault rifles are select fire and the theoretical operation of a filed down sear is not\"\n",
        "doc = nlp(text)\n",
        "\n",
        "for token in doc:\n",
        "  print(token.text, token.pos_, token.tag_, token.dep)"
      ],
      "execution_count": 54,
      "outputs": [
        {
          "output_type": "stream",
          "text": [
            "Screw VERB VB 399\n",
            "you PRON PRP 416\n",
            "off ADP RP 444\n",
            "all DET DT 416\n",
            "you PRON PRP 429\n",
            "want VERB VBP 447\n",
            ", PUNCT , 445\n",
            "it PRON PRP 429\n",
            "'s AUX VBZ 8206900633647566924\n",
            "a DET DT 415\n",
            "simple ADJ JJ 402\n",
            "fact NOUN NN 404\n",
            ". PUNCT . 445\n",
            "Assault PROPN NNP 7037928807040764755\n",
            "rifles NOUN NNS 429\n",
            "are AUX VBP 8206900633647566924\n",
            "select ADJ JJ 402\n",
            "fire NOUN NN 404\n",
            "and CCONJ CC 407\n",
            "the DET DT 415\n",
            "theoretical ADJ JJ 402\n",
            "operation NOUN NN 410\n",
            "of ADP IN 443\n",
            "a DET DT 415\n",
            "filed VERB VBN 402\n",
            "down ADP RP 444\n",
            "sear NOUN NN 439\n",
            "is AUX VBZ 410\n",
            "not PART RB 425\n"
          ],
          "name": "stdout"
        }
      ]
    },
    {
      "cell_type": "code",
      "metadata": {
        "id": "-x8VCs9U-5lF"
      },
      "source": [
        ""
      ],
      "execution_count": null,
      "outputs": []
    }
  ]
}